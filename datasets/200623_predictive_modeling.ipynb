{
 "cells": [
  {
   "cell_type": "markdown",
   "id": "b444c6c9-b06e-43f0-9c26-0bdea927152d",
   "metadata": {},
   "source": [
    "## First model with scikit-learn"
   ]
  },
  {
   "cell_type": "markdown",
   "id": "aebfdded-d477-40db-8173-9ea16c2eddb1",
   "metadata": {},
   "source": [
    "scikit-learn API: .fit(X,y), predict(X), .score(X,y).\n",
    "\n",
    "how to evaluate generalization performance of a model with train-test-split."
   ]
  },
  {
   "cell_type": "code",
   "execution_count": null,
   "id": "c91e5738-5a26-48d2-a992-6fac05a698a1",
   "metadata": {},
   "outputs": [],
   "source": []
  }
 ],
 "metadata": {
  "kernelspec": {
   "display_name": "Python 3 (ipykernel)",
   "language": "python",
   "name": "python3"
  },
  "language_info": {
   "codemirror_mode": {
    "name": "ipython",
    "version": 3
   },
   "file_extension": ".py",
   "mimetype": "text/x-python",
   "name": "python",
   "nbconvert_exporter": "python",
   "pygments_lexer": "ipython3",
   "version": "3.11.4"
  }
 },
 "nbformat": 4,
 "nbformat_minor": 5
}
